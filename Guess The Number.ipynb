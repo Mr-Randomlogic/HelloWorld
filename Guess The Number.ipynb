{
 "cells": [
  {
   "cell_type": "code",
   "execution_count": 9,
   "metadata": {},
   "outputs": [
    {
     "name": "stdout",
     "output_type": "stream",
     "text": [
      "That is not the right number.\n",
      "That is not a valid response\n",
      "That is not the right number.\n",
      "That is not a valid response\n",
      "That is not the right number.\n",
      "That is not a valid response\n",
      "That is not the right number.\n",
      "That is not a valid response\n",
      "Thanks for playing!\n"
     ]
    }
   ],
   "source": [
    "import random\n",
    "\n",
    "while True:\n",
    "    ask = input(\"Pick a number between 1 and 10, type 'stop' to end the game.\").lower()\n",
    "    random_number = random.randint(1,10)\n",
    "    if ask == 'stop':\n",
    "        print('Thanks for playing!')\n",
    "        break\n",
    "    elif ask == random_number:\n",
    "        print(f'You have guesses correctly!!!')\n",
    "    else:\n",
    "        print('That is not the right number.')\n",
    "        if input != range(1,11) or input != int:\n",
    "            print('That is not a valid response')\n"
   ]
  },
  {
   "cell_type": "code",
   "execution_count": 8,
   "metadata": {},
   "outputs": [
    {
     "name": "stdout",
     "output_type": "stream",
     "text": [
      "Thanks for playing!\n"
     ]
    }
   ],
   "source": [
    "import random\n",
    "\n",
    "while True:\n",
    "    ask = input(\"Pick a number between 1 and 10, type 'stop' to end the game.\").lower()\n",
    "    if ask == 'stop':\n",
    "        print('Thanks for playing!')\n",
    "        break\n",
    "    elif not ask.isdigit() or not (1 <= int(ask) <= 10):\n",
    "        print('That is not a valid response')\n",
    "    else:\n",
    "        random_number = random.randint(1, 10)\n",
    "        if int(ask) == random_number:\n",
    "            print(f'You have guessed correctly!!!')\n",
    "        else:\n",
    "            print('That is not the right number.')\n"
   ]
  }
 ],
 "metadata": {
  "kernelspec": {
   "display_name": "Python 3",
   "language": "python",
   "name": "python3"
  },
  "language_info": {
   "codemirror_mode": {
    "name": "ipython",
    "version": 3
   },
   "file_extension": ".py",
   "mimetype": "text/x-python",
   "name": "python",
   "nbconvert_exporter": "python",
   "pygments_lexer": "ipython3",
   "version": "3.10.6"
  }
 },
 "nbformat": 4,
 "nbformat_minor": 2
}
