{
 "cells": [
  {
   "cell_type": "code",
   "execution_count": null,
   "metadata": {},
   "outputs": [
    {
     "name": "stdout",
     "output_type": "stream",
     "text": [
      "You have rolled a: 1\n",
      "You have rolled a: 5\n",
      "You have rolled a: 3\n",
      "You have rolled a: 5\n",
      "You have rolled a: 3\n",
      "That is not a valid response.\n",
      "That is not a valid response.\n",
      "That is not a valid response.\n",
      "You have rolled a: 4\n",
      "Thanks for playing!\n"
     ]
    }
   ],
   "source": [
    "import random\n",
    "\n",
    "while True:\n",
    "    ask = input('Would you like to roll? (yes/no)').lower()\n",
    "    dice_number = random.randint(1,6)\n",
    "    if ask == 'no':\n",
    "        print('Thanks for playing!')\n",
    "        break\n",
    "    elif ask == 'yes':\n",
    "        print(f'You have rolled a: {dice_number}')\n",
    "    else:\n",
    "        print('That is not a valid response.')"
   ]
  }
 ],
 "metadata": {
  "kernelspec": {
   "display_name": "Python 3",
   "language": "python",
   "name": "python3"
  },
  "language_info": {
   "codemirror_mode": {
    "name": "ipython",
    "version": 3
   },
   "file_extension": ".py",
   "mimetype": "text/x-python",
   "name": "python",
   "nbconvert_exporter": "python",
   "pygments_lexer": "ipython3",
   "version": "3.10.6"
  }
 },
 "nbformat": 4,
 "nbformat_minor": 2
}
